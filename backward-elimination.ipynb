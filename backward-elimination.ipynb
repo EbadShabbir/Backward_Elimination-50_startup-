{
 "cells": [
  {
   "cell_type": "code",
   "execution_count": 1,
   "id": "641a3488",
   "metadata": {
    "_cell_guid": "b1076dfc-b9ad-4769-8c92-a6c4dae69d19",
    "_uuid": "8f2839f25d086af736a60e9eeb907d3b93b6e0e5",
    "execution": {
     "iopub.execute_input": "2024-10-13T06:47:01.305268Z",
     "iopub.status.busy": "2024-10-13T06:47:01.304833Z",
     "iopub.status.idle": "2024-10-13T06:47:05.449920Z",
     "shell.execute_reply": "2024-10-13T06:47:05.448622Z"
    },
    "papermill": {
     "duration": 4.151548,
     "end_time": "2024-10-13T06:47:05.452516",
     "exception": false,
     "start_time": "2024-10-13T06:47:01.300968",
     "status": "completed"
    },
    "tags": []
   },
   "outputs": [
    {
     "name": "stdout",
     "output_type": "stream",
     "text": [
      "Train Score:  0.9501847627493607\n",
      "Test Score:  0.9347068473282987\n",
      "                            OLS Regression Results                            \n",
      "==============================================================================\n",
      "Dep. Variable:                      y   R-squared:                       0.947\n",
      "Model:                            OLS   Adj. R-squared:                  0.945\n",
      "Method:                 Least Squares   F-statistic:                     849.8\n",
      "Date:                Sun, 13 Oct 2024   Prob (F-statistic):           3.50e-32\n",
      "Time:                        06:47:05   Log-Likelihood:                -527.44\n",
      "No. Observations:                  50   AIC:                             1059.\n",
      "Df Residuals:                      48   BIC:                             1063.\n",
      "Df Model:                           1                                         \n",
      "Covariance Type:            nonrobust                                         \n",
      "==============================================================================\n",
      "                 coef    std err          t      P>|t|      [0.025      0.975]\n",
      "------------------------------------------------------------------------------\n",
      "const       4.903e+04   2537.897     19.320      0.000    4.39e+04    5.41e+04\n",
      "x1             0.8543      0.029     29.151      0.000       0.795       0.913\n",
      "==============================================================================\n",
      "Omnibus:                       13.727   Durbin-Watson:                   1.116\n",
      "Prob(Omnibus):                  0.001   Jarque-Bera (JB):               18.536\n",
      "Skew:                          -0.911   Prob(JB):                     9.44e-05\n",
      "Kurtosis:                       5.361   Cond. No.                     1.65e+05\n",
      "==============================================================================\n",
      "\n",
      "Notes:\n",
      "[1] Standard Errors assume that the covariance matrix of the errors is correctly specified.\n",
      "[2] The condition number is large, 1.65e+05. This might indicate that there are\n",
      "strong multicollinearity or other numerical problems.\n"
     ]
    }
   ],
   "source": [
    "# Importing necessary libraries\n",
    "import numpy as np\n",
    "import pandas as pd\n",
    "import matplotlib.pyplot as mtp\n",
    "from sklearn.compose import ColumnTransformer\n",
    "from sklearn.preprocessing import OneHotEncoder\n",
    "from sklearn.model_selection import train_test_split\n",
    "from sklearn.linear_model import LinearRegression\n",
    "import statsmodels.api as sm\n",
    "\n",
    "# Importing the dataset\n",
    "data_set = pd.read_csv('/kaggle/input/revising-onehotencoding/50_Startups.csv')\n",
    "\n",
    "# Extracting independent and dependent variables\n",
    "x = data_set.iloc[:, :-1].values  # All columns except the last one (independent variables)\n",
    "y = data_set.iloc[:, -1].values   # Only the last column (Profit)\n",
    "\n",
    "# One-hot encoding the categorical data (State is in column index 3)\n",
    "ct = ColumnTransformer(transformers=[('encoder', OneHotEncoder(), [3])], remainder='passthrough')\n",
    "x = np.array(ct.fit_transform(x), dtype=np.float64)  # Convert to float64 to avoid 'isfinite' error\n",
    "\n",
    "# Avoiding the dummy variable trap (removing the first column of the one-hot encoded variables)\n",
    "x = x[:, 1:]\n",
    "\n",
    "# Splitting the dataset into the training set and test set\n",
    "x_train, x_test, y_train, y_test = train_test_split(x, y, test_size=0.2, random_state=0)\n",
    "\n",
    "# Fitting the multiple linear regression model to the training set\n",
    "regressor = LinearRegression()\n",
    "regressor.fit(x_train, y_train)\n",
    "\n",
    "# Predicting the test set results\n",
    "y_pred = regressor.predict(x_test)\n",
    "\n",
    "# Printing the train and test scores\n",
    "print('Train Score: ', regressor.score(x_train, y_train))\n",
    "print('Test Score: ', regressor.score(x_test, y_test))\n",
    "\n",
    "# Adding a column of ones to x for the intercept in statsmodels (to account for constant term)\n",
    "x = np.append(arr=np.ones((x.shape[0], 1)).astype(int), values=x, axis=1)\n",
    "\n",
    "# Performing backward elimination using statsmodels OLS\n",
    "x_opt=x[:, [0,3]]  \n",
    "regressor_OLS=sm.OLS(endog = y, exog=x_opt).fit()  \n",
    "regressor_OLS.summary()  \n",
    "\n",
    "# Displaying the OLS regression results\n",
    "print(regressor_OLS.summary())\n",
    "\n"
   ]
  }
 ],
 "metadata": {
  "kaggle": {
   "accelerator": "none",
   "dataSources": [
    {
     "datasetId": 3088267,
     "sourceId": 5313833,
     "sourceType": "datasetVersion"
    }
   ],
   "dockerImageVersionId": 30786,
   "isGpuEnabled": false,
   "isInternetEnabled": true,
   "language": "python",
   "sourceType": "notebook"
  },
  "kernelspec": {
   "display_name": "Python 3",
   "language": "python",
   "name": "python3"
  },
  "language_info": {
   "codemirror_mode": {
    "name": "ipython",
    "version": 3
   },
   "file_extension": ".py",
   "mimetype": "text/x-python",
   "name": "python",
   "nbconvert_exporter": "python",
   "pygments_lexer": "ipython3",
   "version": "3.10.14"
  },
  "papermill": {
   "default_parameters": {},
   "duration": 7.442763,
   "end_time": "2024-10-13T06:47:06.075814",
   "environment_variables": {},
   "exception": null,
   "input_path": "__notebook__.ipynb",
   "output_path": "__notebook__.ipynb",
   "parameters": {},
   "start_time": "2024-10-13T06:46:58.633051",
   "version": "2.6.0"
  }
 },
 "nbformat": 4,
 "nbformat_minor": 5
}
